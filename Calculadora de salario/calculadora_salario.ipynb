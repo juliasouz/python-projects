{
 "cells": [
  {
   "cell_type": "code",
   "execution_count": 73,
   "metadata": {},
   "outputs": [],
   "source": [
    "import tkinter as tk\n",
    "from tkinter import ttk, messagebox"
   ]
  },
  {
   "cell_type": "code",
   "execution_count": 74,
   "metadata": {},
   "outputs": [],
   "source": [
    "def calcular_salario():\n",
    "    try:\n",
    "        horas = float(entrada_horas.get())\n",
    "        valor_hora = float(entrada_valor_hora.get())\n",
    "        horas_extras = float(entrada_horas_extras.get()) if entrada_horas_extras.get() else 0\n",
    "        valor_hora_extra = float(entrada_valor_hora_extra.get()) if entrada_valor_hora_extra.get() else 0\n",
    "        descontos = float(entrada_descontos.get()) if entrada_descontos.get() else 0\n",
    "\n",
    "        salario_base = horas * valor_hora\n",
    "        salario_extra = horas_extras * valor_hora_extra\n",
    "        salario_bruto = salario_base + salario_extra\n",
    "        salario_liquido = salario_bruto - descontos\n",
    "        \n",
    "        resultado.set(f\"O salário líquido é: R${salario_liquido:.2f}\")\n",
    "    except ValueError:\n",
    "        messagebox.showerror(\"Erro\", \"Por favor, insira valores numéricos válidos.\")"
   ]
  },
  {
   "cell_type": "code",
   "execution_count": 75,
   "metadata": {},
   "outputs": [
    {
     "data": {
      "text/plain": [
       "''"
      ]
     },
     "execution_count": 75,
     "metadata": {},
     "output_type": "execute_result"
    }
   ],
   "source": [
    "# Configuração da janela principal\n",
    "root = tk.Tk()\n",
    "root.title(\"Calculadora de Salário\")"
   ]
  },
  {
   "cell_type": "code",
   "execution_count": 76,
   "metadata": {},
   "outputs": [],
   "source": [
    "# Variável para exibir o resultado\n",
    "resultado = tk.StringVar()"
   ]
  },
  {
   "cell_type": "code",
   "execution_count": 77,
   "metadata": {},
   "outputs": [],
   "source": [
    "#Estilo\n",
    "estilo = ttk.Style()\n",
    "estilo.theme_use('xpnative')"
   ]
  },
  {
   "cell_type": "code",
   "execution_count": 78,
   "metadata": {},
   "outputs": [],
   "source": [
    "# Layout da interface\n",
    "ttk.Label(root, text=\"Horas Trabalhadas:\").grid(row=0, column=0, padx=10, pady=5)\n",
    "entrada_horas = ttk.Entry(root)\n",
    "entrada_horas.grid(row=0, column=1, padx=10, pady=5)\n",
    "\n",
    "ttk.Label(root, text=\"Valor por Hora:\").grid(row=1, column=0, padx=10, pady=5)\n",
    "entrada_valor_hora = ttk.Entry(root)\n",
    "entrada_valor_hora.grid(row=1, column=1, padx=10, pady=5)\n",
    "\n",
    "ttk.Label(root, text=\"Horas Extras:\").grid(row=2, column=0, padx=10, pady=5)\n",
    "entrada_horas_extras = ttk.Entry(root)\n",
    "entrada_horas_extras.grid(row=2, column=1, padx=10, pady=5)\n",
    "\n",
    "ttk.Label(root, text=\"Valor por Hora Extra:\").grid(row=3, column=0, padx=10, pady=5)\n",
    "entrada_valor_hora_extra = ttk.Entry(root)\n",
    "entrada_valor_hora_extra.grid(row=3, column=1, padx=10, pady=5)\n",
    "\n",
    "ttk.Label(root, text=\"Descontos:\").grid(row=4, column=0, padx=10, pady=5)\n",
    "entrada_descontos = ttk.Entry(root)\n",
    "entrada_descontos.grid(row=4, column=1, padx=10, pady=5)\n",
    "\n",
    "ttk.Button(root, text=\"Calcular\", command=calcular_salario).grid(row=5, column=0, columnspan=2, pady=10)\n",
    "\n",
    "ttk.Label(root, textvariable=resultado).grid(row=6, column=0, columnspan=2, pady=10)"
   ]
  },
  {
   "cell_type": "code",
   "execution_count": 79,
   "metadata": {},
   "outputs": [],
   "source": [
    "# Iniciar o loop da interface\n",
    "root.mainloop()"
   ]
  }
 ],
 "metadata": {
  "kernelspec": {
   "display_name": "Python 3",
   "language": "python",
   "name": "python3"
  },
  "language_info": {
   "codemirror_mode": {
    "name": "ipython",
    "version": 3
   },
   "file_extension": ".py",
   "mimetype": "text/x-python",
   "name": "python",
   "nbconvert_exporter": "python",
   "pygments_lexer": "ipython3",
   "version": "3.7.8"
  }
 },
 "nbformat": 4,
 "nbformat_minor": 2
}
