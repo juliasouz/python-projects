{
 "cells": [
  {
   "cell_type": "code",
   "execution_count": 1,
   "metadata": {},
   "outputs": [],
   "source": [
    "import tkinter as tk\n",
    "from tkinter import ttk, messagebox"
   ]
  },
  {
   "cell_type": "code",
   "execution_count": 2,
   "metadata": {},
   "outputs": [
    {
     "data": {
      "text/plain": [
       "''"
      ]
     },
     "execution_count": 2,
     "metadata": {},
     "output_type": "execute_result"
    }
   ],
   "source": [
    "#Main window configuration\n",
    "root = tk.Tk()\n",
    "root.title(\"Salary Calculator\")"
   ]
  },
  {
   "cell_type": "code",
   "execution_count": 3,
   "metadata": {},
   "outputs": [],
   "source": [
    "result = tk.StringVar()"
   ]
  },
  {
   "cell_type": "code",
   "execution_count": 4,
   "metadata": {},
   "outputs": [],
   "source": [
    "style = ttk.Style()\n",
    "style.theme_use('xpnative')"
   ]
  },
  {
   "cell_type": "code",
   "execution_count": 5,
   "metadata": {},
   "outputs": [],
   "source": [
    "#Interface layout\n",
    "ttk.Label(root, text=\"Hours Worked:\").grid(row=0, column=0, padx=10, pady=5)\n",
    "hours_entry = ttk.Entry(root)\n",
    "hours_entry.grid(row=0, column=1, padx=10, pady=5)\n",
    "\n",
    "ttk.Label(root, text=\"Hourly Rate:\").grid(row=1, column=0, padx=10, pady=5)\n",
    "hourly_rate_entry = ttk.Entry(root)\n",
    "hourly_rate_entry.grid(row=1, column=1, padx=10, pady=5)\n",
    "\n",
    "ttk.Label(root, text=\"Overtime Hours:\").grid(row=2, column=0, padx=10, pady=5)\n",
    "overtime_hours_entry = ttk.Entry(root)\n",
    "overtime_hours_entry.grid(row=2, column=1, padx=10, pady=5)\n",
    "\n",
    "ttk.Label(root, text=\"Overtime Rate:\").grid(row=3, column=0, padx=10, pady=5)\n",
    "overtime_rate_entry = ttk.Entry(root)\n",
    "overtime_rate_entry.grid(row=3, column=1, padx=10, pady=5)\n",
    "\n",
    "ttk.Label(root, text=\"Deductions:\").grid(row=4, column=0, padx=10, pady=5)\n",
    "deductions_entry = ttk.Entry(root)\n",
    "deductions_entry.grid(row=4, column=1, padx=10, pady=5)"
   ]
  },
  {
   "cell_type": "code",
   "execution_count": 6,
   "metadata": {},
   "outputs": [],
   "source": [
    "def calculate_salary():\n",
    "    try:\n",
    "        hours = float(hours_entry.get())\n",
    "        hourly_rate = float(hourly_rate_entry.get())\n",
    "        overtime_hours = float(overtime_hours_entry.get()) if overtime_hours_entry.get() else 0\n",
    "        overtime_rate = float(overtime_rate_entry.get()) if overtime_rate_entry.get() else 0\n",
    "        deductions = float(deductions_entry.get()) if deductions_entry.get() else 0\n",
    "\n",
    "        base_salary = hours * hourly_rate\n",
    "        overtime_salary = overtime_hours * overtime_rate\n",
    "        gross_salary = base_salary + overtime_salary\n",
    "        net_salary = gross_salary - deductions\n",
    "\n",
    "        result.set(f\"The net salary is: ${net_salary:.2f}\")\n",
    "    except ValueError:\n",
    "        messagebox.showerror(\"Error\", \"Please enter valid numeric values.\")"
   ]
  },
  {
   "cell_type": "code",
   "execution_count": 7,
   "metadata": {},
   "outputs": [],
   "source": [
    "ttk.Button(root, text=\"Calculate\", command=calculate_salary).grid(row=5, column=0, columnspan=2, pady=10)\n",
    "\n",
    "ttk.Label(root, textvariable=result).grid(row=6, column=0, columnspan=2, pady=10)"
   ]
  },
  {
   "cell_type": "code",
   "execution_count": 8,
   "metadata": {},
   "outputs": [],
   "source": [
    "#Starting the interface loop\n",
    "root.mainloop()"
   ]
  }
 ],
 "metadata": {
  "kernelspec": {
   "display_name": "Python 3",
   "language": "python",
   "name": "python3"
  },
  "language_info": {
   "codemirror_mode": {
    "name": "ipython",
    "version": 3
   },
   "file_extension": ".py",
   "mimetype": "text/x-python",
   "name": "python",
   "nbconvert_exporter": "python",
   "pygments_lexer": "ipython3",
   "version": "3.12.5"
  }
 },
 "nbformat": 4,
 "nbformat_minor": 2
}
