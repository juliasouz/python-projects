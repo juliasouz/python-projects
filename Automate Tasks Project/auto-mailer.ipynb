{
 "cells": [
  {
   "cell_type": "code",
   "execution_count": 1,
   "metadata": {},
   "outputs": [],
   "source": [
    "import yfinance\n",
    "import pyautogui\n",
    "import time \n",
    "from time import sleep\n",
    "import webbrowser\n",
    "import pyperclip"
   ]
  },
  {
   "cell_type": "code",
   "execution_count": 2,
   "metadata": {},
   "outputs": [
    {
     "data": {
      "text/html": [
       "<div>\n",
       "<style scoped>\n",
       "    .dataframe tbody tr th:only-of-type {\n",
       "        vertical-align: middle;\n",
       "    }\n",
       "\n",
       "    .dataframe tbody tr th {\n",
       "        vertical-align: top;\n",
       "    }\n",
       "\n",
       "    .dataframe thead th {\n",
       "        text-align: right;\n",
       "    }\n",
       "</style>\n",
       "<table border=\"1\" class=\"dataframe\">\n",
       "  <thead>\n",
       "    <tr style=\"text-align: right;\">\n",
       "      <th></th>\n",
       "      <th>Open</th>\n",
       "      <th>High</th>\n",
       "      <th>Low</th>\n",
       "      <th>Close</th>\n",
       "      <th>Volume</th>\n",
       "      <th>Dividends</th>\n",
       "      <th>Stock Splits</th>\n",
       "    </tr>\n",
       "    <tr>\n",
       "      <th>Date</th>\n",
       "      <th></th>\n",
       "      <th></th>\n",
       "      <th></th>\n",
       "      <th></th>\n",
       "      <th></th>\n",
       "      <th></th>\n",
       "      <th></th>\n",
       "    </tr>\n",
       "  </thead>\n",
       "  <tbody>\n",
       "    <tr>\n",
       "      <th>2020-01-02 00:00:00-03:00</th>\n",
       "      <td>10.856115</td>\n",
       "      <td>10.923721</td>\n",
       "      <td>10.784950</td>\n",
       "      <td>10.923721</td>\n",
       "      <td>37774500</td>\n",
       "      <td>0.0</td>\n",
       "      <td>0.0</td>\n",
       "    </tr>\n",
       "    <tr>\n",
       "      <th>2020-01-03 00:00:00-03:00</th>\n",
       "      <td>10.987770</td>\n",
       "      <td>11.115866</td>\n",
       "      <td>10.834767</td>\n",
       "      <td>10.834767</td>\n",
       "      <td>71595600</td>\n",
       "      <td>0.0</td>\n",
       "      <td>0.0</td>\n",
       "    </tr>\n",
       "    <tr>\n",
       "      <th>2020-01-06 00:00:00-03:00</th>\n",
       "      <td>10.827649</td>\n",
       "      <td>11.009118</td>\n",
       "      <td>10.656855</td>\n",
       "      <td>10.962861</td>\n",
       "      <td>81844000</td>\n",
       "      <td>0.0</td>\n",
       "      <td>0.0</td>\n",
       "    </tr>\n",
       "    <tr>\n",
       "      <th>2020-01-07 00:00:00-03:00</th>\n",
       "      <td>10.966420</td>\n",
       "      <td>10.987769</td>\n",
       "      <td>10.841882</td>\n",
       "      <td>10.920163</td>\n",
       "      <td>32822000</td>\n",
       "      <td>0.0</td>\n",
       "      <td>0.0</td>\n",
       "    </tr>\n",
       "    <tr>\n",
       "      <th>2020-01-08 00:00:00-03:00</th>\n",
       "      <td>10.920164</td>\n",
       "      <td>10.948630</td>\n",
       "      <td>10.760044</td>\n",
       "      <td>10.852558</td>\n",
       "      <td>48215600</td>\n",
       "      <td>0.0</td>\n",
       "      <td>0.0</td>\n",
       "    </tr>\n",
       "    <tr>\n",
       "      <th>...</th>\n",
       "      <td>...</td>\n",
       "      <td>...</td>\n",
       "      <td>...</td>\n",
       "      <td>...</td>\n",
       "      <td>...</td>\n",
       "      <td>...</td>\n",
       "      <td>...</td>\n",
       "    </tr>\n",
       "    <tr>\n",
       "      <th>2020-12-22 00:00:00-03:00</th>\n",
       "      <td>9.678542</td>\n",
       "      <td>9.774615</td>\n",
       "      <td>9.625167</td>\n",
       "      <td>9.707008</td>\n",
       "      <td>46513200</td>\n",
       "      <td>0.0</td>\n",
       "      <td>0.0</td>\n",
       "    </tr>\n",
       "    <tr>\n",
       "      <th>2020-12-23 00:00:00-03:00</th>\n",
       "      <td>9.760381</td>\n",
       "      <td>10.052160</td>\n",
       "      <td>9.731914</td>\n",
       "      <td>9.945412</td>\n",
       "      <td>49038900</td>\n",
       "      <td>0.0</td>\n",
       "      <td>0.0</td>\n",
       "    </tr>\n",
       "    <tr>\n",
       "      <th>2020-12-28 00:00:00-03:00</th>\n",
       "      <td>10.091301</td>\n",
       "      <td>10.148233</td>\n",
       "      <td>10.027251</td>\n",
       "      <td>10.027251</td>\n",
       "      <td>36313300</td>\n",
       "      <td>0.0</td>\n",
       "      <td>0.0</td>\n",
       "    </tr>\n",
       "    <tr>\n",
       "      <th>2020-12-29 00:00:00-03:00</th>\n",
       "      <td>10.098417</td>\n",
       "      <td>10.116209</td>\n",
       "      <td>9.959644</td>\n",
       "      <td>10.059277</td>\n",
       "      <td>29891100</td>\n",
       "      <td>0.0</td>\n",
       "      <td>0.0</td>\n",
       "    </tr>\n",
       "    <tr>\n",
       "      <th>2020-12-30 00:00:00-03:00</th>\n",
       "      <td>10.087742</td>\n",
       "      <td>10.137558</td>\n",
       "      <td>10.034368</td>\n",
       "      <td>10.084184</td>\n",
       "      <td>36968200</td>\n",
       "      <td>0.0</td>\n",
       "      <td>0.0</td>\n",
       "    </tr>\n",
       "  </tbody>\n",
       "</table>\n",
       "<p>248 rows × 7 columns</p>\n",
       "</div>"
      ],
      "text/plain": [
       "                                Open       High        Low      Close  \\\n",
       "Date                                                                    \n",
       "2020-01-02 00:00:00-03:00  10.856115  10.923721  10.784950  10.923721   \n",
       "2020-01-03 00:00:00-03:00  10.987770  11.115866  10.834767  10.834767   \n",
       "2020-01-06 00:00:00-03:00  10.827649  11.009118  10.656855  10.962861   \n",
       "2020-01-07 00:00:00-03:00  10.966420  10.987769  10.841882  10.920163   \n",
       "2020-01-08 00:00:00-03:00  10.920164  10.948630  10.760044  10.852558   \n",
       "...                              ...        ...        ...        ...   \n",
       "2020-12-22 00:00:00-03:00   9.678542   9.774615   9.625167   9.707008   \n",
       "2020-12-23 00:00:00-03:00   9.760381  10.052160   9.731914   9.945412   \n",
       "2020-12-28 00:00:00-03:00  10.091301  10.148233  10.027251  10.027251   \n",
       "2020-12-29 00:00:00-03:00  10.098417  10.116209   9.959644  10.059277   \n",
       "2020-12-30 00:00:00-03:00  10.087742  10.137558  10.034368  10.084184   \n",
       "\n",
       "                             Volume  Dividends  Stock Splits  \n",
       "Date                                                          \n",
       "2020-01-02 00:00:00-03:00  37774500        0.0           0.0  \n",
       "2020-01-03 00:00:00-03:00  71595600        0.0           0.0  \n",
       "2020-01-06 00:00:00-03:00  81844000        0.0           0.0  \n",
       "2020-01-07 00:00:00-03:00  32822000        0.0           0.0  \n",
       "2020-01-08 00:00:00-03:00  48215600        0.0           0.0  \n",
       "...                             ...        ...           ...  \n",
       "2020-12-22 00:00:00-03:00  46513200        0.0           0.0  \n",
       "2020-12-23 00:00:00-03:00  49038900        0.0           0.0  \n",
       "2020-12-28 00:00:00-03:00  36313300        0.0           0.0  \n",
       "2020-12-29 00:00:00-03:00  29891100        0.0           0.0  \n",
       "2020-12-30 00:00:00-03:00  36968200        0.0           0.0  \n",
       "\n",
       "[248 rows x 7 columns]"
      ]
     },
     "execution_count": 2,
     "metadata": {},
     "output_type": "execute_result"
    }
   ],
   "source": [
    "ticker = input(\"Enter the stock ticker code:\")\n",
    "start_dt = input(\"Enter the start date (yyyy-mm-dd): \")\n",
    "end_dt = input(\"Enter the end date (yyyy-mm-dd): \")\n",
    "data = yfinance.Ticker(ticker)\n",
    "table = data.history(start=start_dt, end=end_dt)\n",
    "table"
   ]
  },
  {
   "cell_type": "code",
   "execution_count": 3,
   "metadata": {},
   "outputs": [
    {
     "data": {
      "text/plain": [
       "Date\n",
       "2020-01-02 00:00:00-03:00    10.923721\n",
       "2020-01-03 00:00:00-03:00    10.834767\n",
       "2020-01-06 00:00:00-03:00    10.962861\n",
       "2020-01-07 00:00:00-03:00    10.920163\n",
       "2020-01-08 00:00:00-03:00    10.852558\n",
       "                               ...    \n",
       "2020-12-22 00:00:00-03:00     9.707008\n",
       "2020-12-23 00:00:00-03:00     9.945412\n",
       "2020-12-28 00:00:00-03:00    10.027251\n",
       "2020-12-29 00:00:00-03:00    10.059277\n",
       "2020-12-30 00:00:00-03:00    10.084184\n",
       "Name: Close, Length: 248, dtype: float64"
      ]
     },
     "execution_count": 3,
     "metadata": {},
     "output_type": "execute_result"
    }
   ],
   "source": [
    "closing = table.Close\n",
    "closing"
   ]
  },
  {
   "cell_type": "code",
   "execution_count": 4,
   "metadata": {},
   "outputs": [
    {
     "data": {
      "text/plain": [
       "<Axes: xlabel='Date'>"
      ]
     },
     "execution_count": 4,
     "metadata": {},
     "output_type": "execute_result"
    },
    {
     "data": {
      "image/png": "[encoded data removed]",
      "text/plain": [
       "<Figure size 640x480 with 1 Axes>"
      ]
     },
     "metadata": {},
     "output_type": "display_data"
    }
   ],
   "source": [
    "closing.plot()"
   ]
  },
  {
   "cell_type": "code",
   "execution_count": 5,
   "metadata": {},
   "outputs": [
    {
     "name": "stdout",
     "output_type": "stream",
     "text": [
      "Max:  10.96\n",
      "Min:  4.02\n",
      "Mean:  7.94\n"
     ]
    }
   ],
   "source": [
    "max_value = round(closing.max(), 2)\n",
    "min_value = round(closing.min(), 2)\n",
    "mean_value = round(closing.mean(), 2)\n",
    "\n",
    "print(\"Max: \", max_value)\n",
    "print(\"Min: \", min_value)\n",
    "print(\"Mean: \", mean_value)"
   ]
  },
  {
   "cell_type": "code",
   "execution_count": 9,
   "metadata": {},
   "outputs": [],
   "source": [
    "recipient = \"julia@gmail.com\"\n",
    "subject = \"Project Analysis\"\n",
    "\n",
    "message = f\"\"\"\n",
    "Good morning,\n",
    "\n",
    "Here are the stock analyses for {ticker} for the requested period: {start_dt} to {end_dt}:\n",
    "\n",
    "Highest Price: ${max_value}\n",
    "Lowest Price: ${min_value}\n",
    "Mean Value: ${mean_value}\n",
    "\n",
    "Kind regards,\n",
    "\"\"\"\n",
    "pyautogui.PAUSE = 4\n",
    "\n",
    "webbrowser.open(\"https://mail.google.com/\")\n",
    "sleep(6)\n",
    "\n",
    "pyautogui.click(x=147,y=201)\n",
    "\n",
    "pyperclip.copy(recipient)\n",
    "pyautogui.hotkey(\"ctrl\", \"v\")\n",
    "pyautogui.press(\"tab\")\n",
    "\n",
    "pyperclip.copy(subject)\n",
    "pyautogui.hotkey(\"ctrl\", \"v\")\n",
    "pyautogui.press(\"tab\")\n",
    "\n",
    "pyperclip.copy(message)\n",
    "pyautogui.hotkey(\"ctrl\", \"v\")\n",
    "\n",
    "pyautogui.hotkey(\"ctrl\", \"enter\")\n"
   ]
  },
  {
   "cell_type": "code",
   "execution_count": null,
   "metadata": {},
   "outputs": [],
   "source": []
  }
 ],
 "metadata": {
  "kernelspec": {
   "display_name": "Python 3",
   "language": "python",
   "name": "python3"
  },
  "language_info": {
   "codemirror_mode": {
    "name": "ipython",
    "version": 3
   },
   "file_extension": ".py",
   "mimetype": "text/x-python",
   "name": "python",
   "nbconvert_exporter": "python",
   "pygments_lexer": "ipython3",
   "version": "3.12.5"
  }
 },
 "nbformat": 4,
 "nbformat_minor": 2
}
